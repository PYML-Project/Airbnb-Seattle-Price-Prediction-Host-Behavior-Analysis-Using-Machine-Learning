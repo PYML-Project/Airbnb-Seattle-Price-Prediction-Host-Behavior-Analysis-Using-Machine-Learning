{
 "cells": [
  {
   "cell_type": "markdown",
   "id": "0fc4105e",
   "metadata": {},
   "source": [
    "<h1>Host Classification Model</h1>"
   ]
  },
  {
   "cell_type": "code",
   "execution_count": 4,
   "id": "06c1f8c5",
   "metadata": {},
   "outputs": [
    {
     "name": "stdout",
     "output_type": "stream",
     "text": [
      "Accuracy: 0.8791064388961892\n",
      "\n",
      "Classification Report:\n",
      "               precision    recall  f1-score   support\n",
      "\n",
      "           0       0.89      0.97      0.93       612\n",
      "           1       0.82      0.49      0.61       149\n",
      "\n",
      "    accuracy                           0.88       761\n",
      "   macro avg       0.85      0.73      0.77       761\n",
      "weighted avg       0.87      0.88      0.87       761\n",
      "\n",
      "\n",
      "Top 10 Important Features:\n",
      "                       Feature  Importance\n",
      "27          number_of_reviews    0.112371\n",
      "28       review_scores_rating    0.085299\n",
      "1          host_response_time    0.030267\n",
      "14                      price    0.029553\n",
      "2          host_response_rate    0.025893\n",
      "26           availability_365    0.025868\n",
      "4         host_listings_count    0.023089\n",
      "15               weekly_price    0.022156\n",
      "5   host_total_listings_count    0.021576\n",
      "25            availability_90    0.021001\n"
     ]
    }
   ],
   "source": [
    "# 1. Import libraries\n",
    "import pandas as pd\n",
    "from sklearn.model_selection import train_test_split\n",
    "from sklearn.ensemble import RandomForestClassifier\n",
    "from sklearn.impute import SimpleImputer\n",
    "from sklearn.metrics import classification_report, accuracy_score\n",
    "\n",
    "# 2. Load dataset\n",
    "df = pd.read_csv(\"Dataset.csv\")\n",
    "\n",
    "# 3. Target variable\n",
    "y = df[\"host_is_superhost\"]\n",
    "\n",
    "# 4. Drop ID/date/target columns\n",
    "cols_to_drop = [\"listing_id\", \"host_since\", \"host_is_superhost\"]\n",
    "X = df.drop(columns=cols_to_drop)\n",
    "\n",
    "# 5. Split data\n",
    "X_train, X_test, y_train, y_test = train_test_split(\n",
    "    X, y, test_size=0.2, random_state=42\n",
    ")\n",
    "\n",
    "# 6. Train balanced Random Forest model\n",
    "model = RandomForestClassifier(\n",
    "    n_estimators=200,       # More trees for better accuracy\n",
    "    random_state=42,\n",
    "    class_weight=\"balanced\" # Handle imbalance\n",
    ")\n",
    "model.fit(X_train, y_train)\n",
    "\n",
    "# 7. Predictions\n",
    "y_pred = model.predict(X_test)\n",
    "\n",
    "# 8. Evaluation\n",
    "print(\"Accuracy:\", accuracy_score(y_test, y_pred))\n",
    "print(\"\\nClassification Report:\\n\", classification_report(y_test, y_pred))\n",
    "\n",
    "# 9. Feature importance\n",
    "feature_importances = model.feature_importances_\n",
    "feature_names = X.columns\n",
    "feat_imp_df = pd.DataFrame({\"Feature\": feature_names, \"Importance\": feature_importances})\n",
    "feat_imp_df = feat_imp_df.sort_values(by=\"Importance\", ascending=False)\n",
    "print(\"\\nTop 10 Important Features:\\n\", feat_imp_df.head(10))\n"
   ]
  }
 ],
 "metadata": {
  "kernelspec": {
   "display_name": "Python 3",
   "language": "python",
   "name": "python3"
  },
  "language_info": {
   "codemirror_mode": {
    "name": "ipython",
    "version": 3
   },
   "file_extension": ".py",
   "mimetype": "text/x-python",
   "name": "python",
   "nbconvert_exporter": "python",
   "pygments_lexer": "ipython3",
   "version": "3.12.6"
  }
 },
 "nbformat": 4,
 "nbformat_minor": 5
}
