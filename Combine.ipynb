{
 "cells": [
  {
   "cell_type": "code",
   "execution_count": 3,
   "id": "cafd2e1a",
   "metadata": {},
   "outputs": [],
   "source": [
    "import pandas as pd\n",
    "import numpy as np"
   ]
  },
  {
   "cell_type": "code",
   "execution_count": 4,
   "id": "0991ee27",
   "metadata": {},
   "outputs": [],
   "source": [
    "listings= pd.read_csv(\"listings_cleansed.csv\")\n",
    "calendar = pd.read_csv(\"Calendar_cleansed.csv\")\n",
    "reviews = pd.read_csv(\"reviews_cleansed.csv\")"
   ]
  },
  {
   "cell_type": "code",
   "execution_count": 5,
   "id": "cb52e5a2",
   "metadata": {},
   "outputs": [
    {
     "name": "stdout",
     "output_type": "stream",
     "text": [
      "<class 'pandas.core.frame.DataFrame'>\n",
      "RangeIndex: 3802 entries, 0 to 3801\n",
      "Columns: 193 entries, listing_id to has_wheelchair_accessible\n",
      "dtypes: float64(39), int64(153), object(1)\n",
      "memory usage: 5.6+ MB\n"
     ]
    }
   ],
   "source": [
    "listings.info()"
   ]
  },
  {
   "cell_type": "code",
   "execution_count": 6,
   "id": "644c4f71",
   "metadata": {},
   "outputs": [
    {
     "name": "stdout",
     "output_type": "stream",
     "text": [
      "<class 'pandas.core.frame.DataFrame'>\n",
      "RangeIndex: 1393570 entries, 0 to 1393569\n",
      "Data columns (total 4 columns):\n",
      " #   Column      Non-Null Count    Dtype  \n",
      "---  ------      --------------    -----  \n",
      " 0   listing_id  1393570 non-null  int64  \n",
      " 1   date        1393570 non-null  object \n",
      " 2   available   1393570 non-null  int64  \n",
      " 3   price       1393570 non-null  float64\n",
      "dtypes: float64(1), int64(2), object(1)\n",
      "memory usage: 42.5+ MB\n"
     ]
    }
   ],
   "source": [
    "calendar.info()"
   ]
  },
  {
   "cell_type": "code",
   "execution_count": 7,
   "id": "3d5784b5",
   "metadata": {},
   "outputs": [
    {
     "name": "stdout",
     "output_type": "stream",
     "text": [
      "      listing_id  host_since  host_location  host_response_time  \\\n",
      "2161     7936712  2015-06-24            1.0                 4.0   \n",
      "152      3155785  2013-10-17            3.0                 0.0   \n",
      "3225     6342327  2015-05-10            2.0                 0.0   \n",
      "2902     9563458  2015-08-25            3.0                 4.0   \n",
      "4         278830  2011-11-29            3.0                 4.0   \n",
      "\n",
      "      host_response_rate  host_acceptance_rate  host_is_superhost  \\\n",
      "2161               100.0                 100.0                  1   \n",
      "152                  0.0                   0.0                  0   \n",
      "3225                 0.0                   0.0                  0   \n",
      "2902                99.0                 100.0                  0   \n",
      "4                  100.0                   0.0                  0   \n",
      "\n",
      "      host_listings_count  host_total_listings_count  host_identity_verified  \\\n",
      "2161                  2.0                        2.0                       1   \n",
      "152                   1.0                        1.0                       1   \n",
      "3225                  1.0                        1.0                       0   \n",
      "2902                 17.0                       17.0                       1   \n",
      "4                     2.0                        2.0                       1   \n",
      "\n",
      "      ...  has_indoor_fireplace  has_breakfast  has_essentials  has_shampoo  \\\n",
      "2161  ...                     0              0               1            0   \n",
      "152   ...                     1              0               1            0   \n",
      "3225  ...                     0              0               1            0   \n",
      "2902  ...                     0              0               1            0   \n",
      "4     ...                     0              0               1            1   \n",
      "\n",
      "      has_smoke_detector  has_carbon_monoxide_detector  has_first_aid_kit  \\\n",
      "2161                   1                             1                  0   \n",
      "152                    1                             0                  0   \n",
      "3225                   1                             1                  0   \n",
      "2902                   0                             0                  0   \n",
      "4                      1                             1                  1   \n",
      "\n",
      "      has_fire_extinguisher  has_laptop_friendly_workspace  \\\n",
      "2161                      1                              0   \n",
      "152                       1                              0   \n",
      "3225                      1                              0   \n",
      "2902                      0                              0   \n",
      "4                         1                              0   \n",
      "\n",
      "      has_wheelchair_accessible  \n",
      "2161                          0  \n",
      "152                           0  \n",
      "3225                          0  \n",
      "2902                          0  \n",
      "4                             0  \n",
      "\n",
      "[5 rows x 193 columns]\n"
     ]
    }
   ],
   "source": [
    "pd.merge(listings,calendar, on='listing_id')\n",
    "print(listings.sample(5))\n"
   ]
  },
  {
   "cell_type": "code",
   "execution_count": 8,
   "id": "019b1327",
   "metadata": {},
   "outputs": [
    {
     "name": "stdout",
     "output_type": "stream",
     "text": [
      "<class 'pandas.core.frame.DataFrame'>\n",
      "RangeIndex: 3802 entries, 0 to 3801\n",
      "Columns: 193 entries, listing_id to has_wheelchair_accessible\n",
      "dtypes: float64(39), int64(153), object(1)\n",
      "memory usage: 5.6+ MB\n"
     ]
    }
   ],
   "source": [
    "listings.info()\n",
    "\n"
   ]
  },
  {
   "cell_type": "code",
   "execution_count": 9,
   "id": "6668baa0",
   "metadata": {},
   "outputs": [
    {
     "name": "stdout",
     "output_type": "stream",
     "text": [
      "Columns with missing values:\n",
      "\n",
      "bathrooms                       16\n",
      "bedrooms                         6\n",
      "beds                             1\n",
      "review_scores_rating           637\n",
      "review_scores_accuracy         648\n",
      "review_scores_cleanliness      643\n",
      "review_scores_checkin          648\n",
      "review_scores_communication    641\n",
      "review_scores_location         645\n",
      "review_scores_value            646\n",
      "verification_amex                1\n",
      "verification_email               1\n",
      "verification_facebook            1\n",
      "verification_google              1\n",
      "verification_jumio               1\n",
      "verification_kba                 1\n",
      "verification_linkedin            1\n",
      "verification_manual_offline      1\n",
      "verification_manual_online       1\n",
      "verification_phone               1\n",
      "verification_photographer        1\n",
      "verification_reviews             1\n",
      "verification_sent_id             1\n",
      "verification_weibo               1\n",
      "dtype: int64\n"
     ]
    }
   ],
   "source": [
    "# Get the count of missing values for each column\n",
    "missing_values = listings.isnull().sum()\n",
    "\n",
    "# Filter and print only the columns that have one or more missing values\n",
    "columns_with_missing = missing_values[missing_values > 0]\n",
    "print(\"Columns with missing values:\\n\")\n",
    "print(columns_with_missing)"
   ]
  },
  {
   "cell_type": "code",
   "execution_count": 10,
   "id": "37d5e71e",
   "metadata": {},
   "outputs": [],
   "source": [
    "# Fill missing verification columns with 0\n",
    "for col in listings.columns[listings.columns.str.contains('verification')]:\n",
    "    listings[col] = listings[col].fillna(0)"
   ]
  },
  {
   "cell_type": "code",
   "execution_count": 11,
   "id": "887e90a9",
   "metadata": {},
   "outputs": [],
   "source": [
    "# Fill missing numerical columns with the median\n",
    "for col in ['bathrooms', 'bedrooms', 'beds']:\n",
    "    listings[col] = listings[col].fillna(listings[col].median())\n",
    "\n",
    "# Fill missing review scores with the median score\n",
    "for col in listings.columns[listings.columns.str.contains('review_scores')]:\n",
    "    listings[col] = listings[col].fillna(listings[col].median())"
   ]
  },
  {
   "cell_type": "code",
   "execution_count": 12,
   "id": "ac13f979",
   "metadata": {},
   "outputs": [
    {
     "name": "stdout",
     "output_type": "stream",
     "text": [
      "review_scores_rating           0\n",
      "review_scores_accuracy         0\n",
      "review_scores_cleanliness      0\n",
      "review_scores_checkin          0\n",
      "review_scores_communication    0\n",
      "review_scores_location         0\n",
      "review_scores_value            0\n",
      "dtype: int64\n"
     ]
    }
   ],
   "source": [
    "# Identify all columns that contain 'review_scores' in their name\n",
    "review_score_columns = [\n",
    "    'review_scores_rating', 'review_scores_accuracy', 'review_scores_cleanliness',\n",
    "    'review_scores_checkin', 'review_scores_communication',\n",
    "    'review_scores_location', 'review_scores_value'\n",
    "]\n",
    "\n",
    "# Fill the missing values in these columns with the median of each column\n",
    "for col in review_score_columns:\n",
    "    listings[col] = listings[col].fillna(listings[col].median())\n",
    "\n",
    "# You can now verify that the missing values have been handled\n",
    "print(listings[review_score_columns].isnull().sum())"
   ]
  },
  {
   "cell_type": "code",
   "execution_count": 13,
   "id": "17e174a2",
   "metadata": {},
   "outputs": [
    {
     "name": "stdout",
     "output_type": "stream",
     "text": [
      "Columns with missing values:\n",
      "\n",
      "Series([], dtype: int64)\n"
     ]
    }
   ],
   "source": [
    "# Get the count of missing values for each column\n",
    "missing_values = listings.isnull().sum()\n",
    "\n",
    "# Filter and print only the columns that have one or more missing values\n",
    "columns_with_missing = missing_values[missing_values > 0]\n",
    "print(\"Columns with missing values:\\n\")\n",
    "print(columns_with_missing)"
   ]
  },
  {
   "cell_type": "code",
   "execution_count": 14,
   "id": "6f7c4492",
   "metadata": {},
   "outputs": [],
   "source": [
    "listings.to_csv(\"Dataset.csv\", index=False)"
   ]
  }
 ],
 "metadata": {
  "kernelspec": {
   "display_name": "Python 3",
   "language": "python",
   "name": "python3"
  },
  "language_info": {
   "codemirror_mode": {
    "name": "ipython",
    "version": 3
   },
   "file_extension": ".py",
   "mimetype": "text/x-python",
   "name": "python",
   "nbconvert_exporter": "python",
   "pygments_lexer": "ipython3",
   "version": "3.12.6"
  }
 },
 "nbformat": 4,
 "nbformat_minor": 5
}
