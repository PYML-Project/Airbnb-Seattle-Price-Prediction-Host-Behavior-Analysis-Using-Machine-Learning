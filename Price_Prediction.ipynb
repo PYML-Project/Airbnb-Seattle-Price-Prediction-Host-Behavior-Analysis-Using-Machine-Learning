{
 "cells": [
  {
   "cell_type": "code",
   "execution_count": 1,
   "id": "3c4f7d89",
   "metadata": {},
   "outputs": [],
   "source": [
    "import pandas as pd\n",
    "import numpy as np\n",
    "import seaborn as sns\n",
    "import matplotlib.pyplot as plt"
   ]
  },
  {
   "cell_type": "code",
   "execution_count": 2,
   "id": "76bc6135",
   "metadata": {},
   "outputs": [],
   "source": [
    "df= pd.read_csv('Dataset.csv')"
   ]
  },
  {
   "cell_type": "markdown",
   "id": "2186c5cb",
   "metadata": {},
   "source": [
    "<h1>Data Cleaning</h1>"
   ]
  },
  {
   "cell_type": "code",
   "execution_count": 3,
   "id": "e89f904a",
   "metadata": {},
   "outputs": [
    {
     "name": "stdout",
     "output_type": "stream",
     "text": [
      "price                   1.000000\n",
      "accommodates            0.652002\n",
      "bedrooms                0.627222\n",
      "weekly_price            0.605974\n",
      "cleaning_fee            0.599953\n",
      "                          ...   \n",
      "host_location          -0.107773\n",
      "host_response_time     -0.119548\n",
      "number_of_reviews      -0.126283\n",
      "host_acceptance_rate   -0.131090\n",
      "has_availability             NaN\n",
      "Name: price, Length: 192, dtype: float64\n",
      "Removed low-correlation features: ['host_neighbourhood_Westlake', 'has_wheelchair_accessible', 'verification_linkedin', 'host_neighbourhood_Montlake', 'host_neighbourhood_Madrona', 'host_neighbourhood_Sunset Hill', 'host_neighbourhood_Pioneer Square', 'zipcode_98116', 'host_neighbourhood_Briarcliff', 'zipcode_98134', 'verification_manual_online', 'has_shampoo', 'verification_kba', 'host_neighbourhood_Pike-Market', 'host_neighbourhood_Green Lake', 'host_neighbourhood_North Queen Anne', 'property_type', 'has_wireless_internet', 'has_smoke_detector', 'host_neighbourhood_Windermere', 'host_neighbourhood_North Admiral', 'review_scores_accuracy', 'has_internet', 'host_neighbourhood_Fauntleroy', 'host_neighbourhood_Industrial District', 'host_neighbourhood_Lawton Park', 'zipcode_98122', 'host_neighbourhood_Lower Queen Anne', 'zipcode_98112', 'minimum_nights', 'has_heating', 'host_neighbourhood_First Hill', 'review_scores_communication', 'zipcode_98104', 'host_is_superhost', 'zipcode_98136', 'review_scores_checkin', 'host_neighbourhood_Stevens', 'verification_sent_id', 'host_neighbourhood_Leschi', 'has_laptop_friendly_workspace', 'host_neighbourhood_Holly Park', 'host_neighbourhood_South Lake Union', 'zipcode_98107', 'host_neighbourhood_Mann', 'host_neighbourhood_View Ridge', 'host_identity_verified', 'has_first_aid_kit', 'host_neighbourhood_Fremont', 'host_neighbourhood_Phinney Ridge', 'host_neighbourhood_Madison Park', 'verification_manual_offline', 'host_neighbourhood_Wallingford', 'host_neighbourhood_Fairmount Park', 'host_neighbourhood_Whittier Heights', 'host_neighbourhood_Roosevelt', 'host_neighbourhood_North Beach/Blue Ridge', 'host_neighbourhood_Arbor Heights', 'host_neighbourhood_Gatewood', 'maximum_nights', 'host_neighbourhood_Pinehurst', 'zipcode_98102', 'verification_photographer', 'host_neighbourhood_Seaview', 'host_neighbourhood_Yesler Terrace', 'host_neighbourhood_Genesee', 'host_neighbourhood_Cedar Park', 'host_neighbourhood_Eastlake', 'host_neighbourhood_West Woodland', 'zipcode_98126', 'verification_jumio', 'verification_facebook', 'host_neighbourhood_Adams', 'host_neighbourhood_Harrison/Denny-Blaine', 'host_neighbourhood_Roxhill', 'host_neighbourhood_Interbay', 'zipcode_9998122', 'host_neighbourhood_Laurelhurst', 'host_neighbourhood_South Park', 'zipcode_98146', 'host_neighbourhood_Minor', 'host_neighbourhood_Bryant', 'host_neighbourhood_Wedgwood', 'verification_amex', 'zipcode_98103', 'host_neighbourhood_Meadowbrook', 'host_neighbourhood_High Point', 'zipcode_98178', 'host_neighbourhood_Broadway', 'host_neighbourhood_South Beacon Hill', 'availability_365', 'host_neighbourhood_Matthews Beach', 'cancellation_policy', 'host_neighbourhood_Haller Lake', 'host_neighbourhood_International District', 'has_essentials', 'host_neighbourhood_Atlantic', 'verification_email', 'zipcode_98177', 'host_neighbourhood_Seward Park', 'host_neighbourhood_Brighton', 'host_neighbourhood_Riverview', 'host_neighbourhood_Loyal Heights', 'host_neighbourhood_Broadview', 'host_neighbourhood_Highland Park', 'host_neighbourhood_Georgetown', 'verification_phone', 'review_scores_value', 'host_neighbourhood_Bitter Lake', 'verification_weibo', 'host_neighbourhood_North College Park', 'instant_bookable', 'host_neighbourhood_Victory Heights', 'host_neighbourhood_Dunlap', 'host_neighbourhood_South Delridge', 'host_neighbourhood_Crown Hill', 'verification_google', 'host_neighbourhood_Mount Baker', 'availability_30', 'verification_reviews', 'zipcode_98115', 'zipcode_98117', 'host_neighbourhood_Olympic Hills', 'listing_id', 'host_neighbourhood_Rainier Beach', 'host_neighbourhood_Columbia City', 'host_neighbourhood_Mid-Beacon Hill', 'host_neighbourhood_North Beacon Hill', 'host_neighbourhood_Greenwood']\n"
     ]
    }
   ],
   "source": [
    "# Calculate correlations\n",
    "correlations = df.corr(numeric_only=True)['price'].sort_values(ascending=False)\n",
    "\n",
    "# Show correlations\n",
    "print(correlations)\n",
    "\n",
    "# Drop features with correlation < 0.05 in absolute value\n",
    "low_corr_features = correlations[abs(correlations) < 0.05].index.tolist()\n",
    "df = df.drop(columns=low_corr_features)\n",
    "print(f\"Removed low-correlation features: {low_corr_features}\")"
   ]
  },
  {
   "cell_type": "code",
   "execution_count": 4,
   "id": "802a921b",
   "metadata": {},
   "outputs": [],
   "source": [
    "from sklearn.preprocessing import MinMaxScaler\n",
    "\n",
    "scaler = MinMaxScaler()\n",
    "df[['bedrooms', 'bathrooms', 'accommodates']] = scaler.fit_transform(df[['bedrooms', 'bathrooms', 'accommodates']])\n",
    "#df['area'] = (df['bedrooms'] * 12) + (df['bathrooms'] * 6) + (df['accommodates'] * 3)\n",
    "\n",
    "df['area'] = df['bedrooms'] + df['bathrooms'] + df['accommodates']"
   ]
  },
  {
   "cell_type": "code",
   "execution_count": 5,
   "id": "74498627",
   "metadata": {},
   "outputs": [],
   "source": [
    "# Example engineered features\n",
    "df['price_per_sqft'] = df['price'] / (df['area'] + 1e-5)\n",
    "df['rooms_per_person'] = df['bedrooms'] / (df['accommodates'] + 1)"
   ]
  },
  {
   "cell_type": "code",
   "execution_count": 6,
   "id": "d0ce73a5",
   "metadata": {},
   "outputs": [],
   "source": [
    "df = pd.get_dummies(df, drop_first=True)"
   ]
  },
  {
   "cell_type": "markdown",
   "id": "5435bc6b",
   "metadata": {},
   "source": [
    "<h1>Price Prediction Random Forest Regressor Model</h1>"
   ]
  },
  {
   "cell_type": "code",
   "execution_count": 7,
   "id": "2b769084",
   "metadata": {},
   "outputs": [
    {
     "name": "stdout",
     "output_type": "stream",
     "text": [
      "R² Score: 0.9818562452340193\n"
     ]
    }
   ],
   "source": [
    "from sklearn.model_selection import train_test_split\n",
    "from sklearn.ensemble import RandomForestRegressor\n",
    "from sklearn.metrics import r2_score\n",
    "\n",
    "X = df.drop(columns=['price'])\n",
    "y = df['price']\n",
    "\n",
    "X_train, X_test, y_train, y_test = train_test_split(X, y, test_size=0.2, random_state=42)\n",
    "\n",
    "model = RandomForestRegressor(n_estimators=1000, random_state=42)\n",
    "model.fit(X_train, y_train)\n",
    "\n",
    "y_pred = model.predict(X_test)\n",
    "print(\"R² Score:\", r2_score(y_test, y_pred))\n"
   ]
  }
 ],
 "metadata": {
  "kernelspec": {
   "display_name": "Python 3",
   "language": "python",
   "name": "python3"
  },
  "language_info": {
   "codemirror_mode": {
    "name": "ipython",
    "version": 3
   },
   "file_extension": ".py",
   "mimetype": "text/x-python",
   "name": "python",
   "nbconvert_exporter": "python",
   "pygments_lexer": "ipython3",
   "version": "3.12.6"
  }
 },
 "nbformat": 4,
 "nbformat_minor": 5
}
